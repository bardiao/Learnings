{
 "cells": [
  {
   "cell_type": "markdown",
   "id": "d333515a",
   "metadata": {},
   "source": [
    "<h1 align=center style=\"line-height:200%;font-family:vazir;color:#0099cc\">\n",
    "<font face=\"vazirmatn\" color=\"#0099cc\">\n",
    "امید به زندگی\n",
    "</font>\n",
    "</h1>"
   ]
  },
  {
   "cell_type": "markdown",
   "id": "6ed20bff",
   "metadata": {},
   "source": [
    "<h2 align=right style=\"line-height:200%;font-family:vazir;color:#0099cc\">\n",
    "<font face=\"vazirmatn\" color=\"#0099cc\">\n",
    "مقدمه و صورت مسئله\n",
    "</font>\n",
    "</h2>\n",
    "\n",
    "<p dir=rtl style=\"direction: rtl;text-align: justify;line-height:200%;font-family:vazir;font-size:medium\">\n",
    "<font face=\"vazirmatn\" size=3>\n",
    "به تمرین «امید به زندگی» خوش آمدید :)\n",
    "    <br>\n",
    "    هدف این تمرین این است که با مورد بررسی قرار دادن شاخص‌های بهداشتی، مالی و کشوری، امید به زندگی کشورها را پیش‌بینی کنیم.\n",
    "    <br>\n",
    "    امید به زندگی یا متوسط طول عمر (به انگلیسی: Life Expectancy) یک شاخص آماری است که نشان می‌دهد اعضای یک جامعه به‌طور میانگین چقدر عمر می‌کنند، یا به عبارت دیگر، انتظار می‌رود چقدر عمر کنند. اطلاعات بیشتر درباره‌ی امید به زندگی را می‌توانید در \n",
    "<a href=\"https://fa.wikipedia.org/wiki/%D8%A7%D9%85%DB%8C%D8%AF_%D8%A8%D9%87_%D8%B2%D9%86%D8%AF%DA%AF%DB%8C\">ویکی‌پدیا</a> \n",
    "    مطالعه کنید.\n",
    "    \n",
    "</font>\n",
    "</p>"
   ]
  },
  {
   "cell_type": "markdown",
   "id": "1c42c409",
   "metadata": {},
   "source": [
    "<h2 align=right style=\"line-height:200%;font-family:vazir;color:#0099cc\">\n",
    "<font face=\"vazirmatn\" color=\"#0099cc\">\n",
    "وارد کردن کتابخانه‌های مورد نیاز\n",
    "</font>\n",
    "</h2>\n",
    "\n",
    "<p dir=rtl style=\"direction: rtl;text-align: right;line-height:200%;font-family:vazir;font-size:medium\">\n",
    "<font face=\"vazirmatn\" size=3>\n",
    "    ابتدا کتابخانه‌های مورد نیازتان را وارد کنید.\n",
    "</font>\n",
    "</p>"
   ]
  },
  {
   "cell_type": "code",
   "execution_count": null,
   "id": "99450f9e",
   "metadata": {},
   "outputs": [],
   "source": [
    "import numpy as np\n",
    "import pandas as pd "
   ]
  },
  {
   "cell_type": "markdown",
   "id": "72faaed8",
   "metadata": {},
   "source": [
    "<h2 align=right style=\"line-height:200%;font-family:vazir;color:#0099cc\">\n",
    "<font face=\"vazirmatn\" color=\"#0099cc\">\n",
    "معرفی مجموعه داده\n",
    "</font>\n",
    "</h2>\n",
    "\n",
    "<p dir=rtl style=\"direction: rtl;text-align: justify;line-height:200%;font-family:vazir;font-size:medium\">\n",
    "<font face=\"vazirmatn\" size=3>\n",
    "مجموعه‌داده‌ی آموزشی مسئله دارای ۲۸۴۸ سطر و ۱۸ ستون است.\n",
    "    ۱۷ ستون مربوط به متغیرهای مستقل و ستون آخر هم نشانگر متغیر وابسته مسئله است.\n",
    "    <br>\n",
    "    در جدول زیر توضیح هر ستون را مشاهده می‌کنید. هر سطر مربوط به اطلاعات یک کشور است که در یک سال مشخص رکورد شده است.\n",
    "</font>\n",
    "</p>\n",
    "\n",
    "<center>\n",
    "<div dir=rtl style=\"direction: rtl;line-height:200%;font-family:vazir;font-size:medium\">\n",
    "<font face=\"vazirmatn\" size=3>\n",
    "    \n",
    "|ستون|توضیحات|\n",
    "|:------:|:---:|\n",
    "|<code>Country</code>|کشور مورد مطالعه|\n",
    "|<code>Year</code>|سال|\n",
    "|<code>Status</code>|وضعیت توسعه‌یافتگی کشور|\n",
    "|<code>Population</code>|جمعیت کشور|\n",
    "|<code>Hepatitis B</code>|درصد افراد نهایتاً یک ساله‌ای که در برابر هپاتیت ب ایمن شده‌اند|\n",
    "|<code>Measles</code>|تعداد موارد مبتلا به سرخک گزارش شده در هر ۱۰۰۰ نفر|\n",
    "|<code>Polio</code>|درصد افراد نهایتاً یک ساله‌ای که در برابر فلج اطفال ایمن شده‌اند|\n",
    "|<code>Diphtheria</code>|درصد افراد نهایتاً یک ساله‌ای که در برابر دیفتری ایمن شده‌اند|\n",
    "|<code>HIV/AIDS</code>|تعداد فوتی‌های ناشی از ایدز افراد نهایتاً ۴ ساله‌ای که زنده به دنیا آمده‌اند در هر ۱۰۰۰ نفر|\n",
    "|<code>infant deaths</code>|تعداد فوتی‌های نوزادان در هر ۱۰۰۰ نفر|\n",
    "|<code>under-five deaths</code>|تعداد فوتی‌های افراد نهایتاً ۵ ساله در هر ۱۰۰۰ نفر|\n",
    "|<code>Total expenditure</code>|نسبت هزینه‌های درمانی-بهداشتی دولت به کل هزینه‌های دولت بر حسب درصد|\n",
    "|<code>GDP</code>|تولید ناخالص ملی بر حسب دلار امریکا|\n",
    "|<code>BMI</code>|میانگین شاخص توده بدنی کل جمعیت کشور|\n",
    "|<code>thinness 1-19 years</code>|میزان شیوع لاغری میان افراد نهایتاً ۱۹ ساله بر حسب درصد|\n",
    "|<code>Alcohol</code>|میزان لیتر مصرف الکل بین افراد بیشتر از ۱۵ سال|\n",
    "|<code>Schooling</code>|تعداد سالی که افراد تحصیل می‌کنند|\n",
    "|<code>Life expectancy</code>|امید به زندگی یا متوسط طول عمر|\n",
    "    \n",
    "</font>\n",
    "</div>\n",
    "</center>\n",
    "\n",
    "\n",
    "<p dir=rtl style=\"direction: rtl;text-align: right;line-height:200%;font-family:vazir;font-size:medium\">\n",
    "<font face=\"vazirmatn\" size=3>\n",
    "     مجموعه‌ی آزمون (تست) مانند مجموعه‌ی آموزش است با این تفاوت که ستون <code>Life expectancy</code> را ندارد.\n",
    "</font>\n",
    "</p>"
   ]
  },
  {
   "cell_type": "markdown",
   "id": "e99bbe9b",
   "metadata": {},
   "source": [
    "<h2 align=right style=\"line-height:200%;font-family:vazir;color:#0099cc\">\n",
    "<font face=\"vazirmatn\" color=\"#0099cc\">\n",
    "خواندن مجموعه داده\n",
    "</font>\n",
    "</h2>\n",
    "\n",
    "<p dir=rtl style=\"direction: rtl; text-align: justify; line-height:200%; font-family:vazir; font-size:medium\">\n",
    "<font face=\"vazirmatn\" size=3>\n",
    "    در ابتدا نیاز است فایل‌های مجموعه‌داده را بخوانید. نمونه‌های آموزشی در فایل <code>train.csv</code> و نمونه‌های آزمون که باید مقدار متغیر هدف آن‌ها را پیش‌بینی کنید در فایل <code>test.csv</code> ذخیره شده‌اند. اگر لازم دانستید می‌توانید به دلخواه خود بخشی از مجموعه‌ی آموزش را به عنوان مجموعه‌ی اعتبارسنجی نیز جدا کنید.\n",
    "</font>\n",
    "</p>"
   ]
  },
  {
   "cell_type": "code",
   "execution_count": null,
   "id": "3b94b930",
   "metadata": {},
   "outputs": [],
   "source": [
    "train_data = None # To-Do\n",
    "train_data"
   ]
  },
  {
   "cell_type": "code",
   "execution_count": null,
   "id": "01faf7be",
   "metadata": {},
   "outputs": [],
   "source": [
    "test_data = None # To-Do\n",
    "test_data"
   ]
  },
  {
   "cell_type": "markdown",
   "id": "23daec54",
   "metadata": {},
   "source": [
    "<h2 align=right style=\"line-height:200%;font-family:vazir;color:#0099cc\">\n",
    "<font face=\"vazirmatn\" color=\"#0099cc\">\n",
    "پیش‌پردازش و مهندسی ویژگی\n",
    "</font>\n",
    "</h2>\n",
    "\n",
    "<p dir=rtl style=\"direction: rtl; text-align: justify; line-height:200%; font-family:vazir; font-size:medium\">\n",
    "<font face=\"vazirmatn\" size=3>\n",
    "    در این سوال شما می‌توانید از هر تکنیک پیش‌پردازش/مهندسی ویژگی که در فصل‌های گذشته آموختید، استفاده کنید.\n",
    "    <br>\n",
    "    تکنیک‌هایی که استفاده می‌کنید به شکل مستقیم مورد ارزیابی توسط سامانه داوری قرار <b>نمی‌گیرند.</b> بلکه همه آن‌ها در دقت مدل شما تاثیر خواهند گذاشت؛ بنابراین هر چه پیش‌پردازش/مهندسی ویژگی بهتری انجام دهید تا دقت مدل بهبود پیدا کند، امتیاز بیشتری از این سوال کسب خواهید کرد.\n",
    "</font>\n",
    "</p>"
   ]
  },
  {
   "cell_type": "code",
   "execution_count": null,
   "id": "17c731d2",
   "metadata": {},
   "outputs": [],
   "source": [
    "# do some preprocessing!\n"
   ]
  },
  {
   "cell_type": "markdown",
   "id": "f99f2c94",
   "metadata": {},
   "source": [
    "<h2 align=right style=\"line-height:200%;font-family:vazir;color:#0099cc\">\n",
    "<font face=\"vazirmatn\" color=\"#0099cc\">\n",
    "مدل‌سازی\n",
    "</font>\n",
    "</h2>\n",
    "\n",
    "<p dir=rtl style=\"direction: rtl; text-align: justify; line-height:200%; font-family:vazir; font-size:medium\">\n",
    "<font face=\"vazirmatn\" size=3>\n",
    "    حال که داده را پاکسازی کرده و احتمالا ویژگی‌هایی را به آن افزوده یا از آن حذف کرده‌اید، وقت آن است که مدلی آموزش دهید که بتواند متغیر هدف این مسئله را پیش‌بینی کند.\n",
    "</font>\n",
    "</p>"
   ]
  },
  {
   "cell_type": "markdown",
   "id": "ce92f0f7",
   "metadata": {},
   "source": [
    "<h3 align=right style=\"direction: rtl;text-align: right;line-height:200%;font-family:vazir;color:#0099cc\">\n",
    "<font face=\"vazirmatn\" color=\"#0099cc\">\n",
    "    استفاده از <code>scikit-learn</code>\n",
    "</font>\n",
    "</h3>\n",
    "\n",
    "\n",
    "<div dir=rtl style=\"direction: rtl;text-align: justify;line-height:200%;font-family:vazir;font-size:medium\">\n",
    "<font face=\"vazirmatn\" size=3>\n",
    "    برای الگوریتم رگرسیون چند‌جمله‌ای پکیج یکتایی در کتابخانه‌ی <code>scikit-learn</code> وجود ندارد. بنابراین برای استفاده از این الگوریتم، می‌بایست ابتدا ویژگی‌های دیتافریم را با استفاده از کلاس <code>PolynomialFeatures</code> که در پکیج <code>preprocessing</code> قرار دارد، به ویژگی‌های چندجمله‌ای تبدیل کنید. سپس از آن ویژگی‌های تغییریافته (<code>transformed</code>) برای آموزش یک رگرسیون خطی معمولی استفاده کنید.\n",
    "    <br>\n",
    "    برخی از آرگومان‌های مهم این کلاس در جدول زیر آمده است، اما برای مطالعه کامل‌تر مستندات می‌توانید به <a href=\"https://scikit-learn.org/stable/modules/generated/sklearn.preprocessing.PolynomialFeatures.html\">این لینک</a> مراجعه فرمایید.\n",
    "\n",
    "</font>\n",
    "</div>\n",
    "    \n",
    "<center>\n",
    "<div dir=rtl style=\"direction: rtl;line-height:200%;font-family:vazir;font-size:medium\">\n",
    "<font face=\"vazirmatn\" size=3>\n",
    "<br>\n",
    "\n",
    "|آرگومان|نوع|توضیحات|\n",
    "|:------:|:--------:|:---:|\n",
    "|<code>degree</code>|<code>int</code> یا <code>tuple</code>|درجه چند جمله‌ای را نشان می‌دهد. به‌صورت پیش‌فرض عدد <code>2</code> است.<br> اگر به شکل <code>tuple</code> باشد، به شکل <code dir=ltr>(min_degree, max_degree)</code> تفسیر می‌شود.|\n",
    "|<code>include_bias</code>|<code>bool</code>|آیا شامل بایاس باشد یا خیر. <br> در صورت <code>True</code> بودن، عدد <code>1</code> هم به چندجمله‌ای افزوده می‌شود. <br> (به این معنی که چندجمله‌ای‌های تولید‌شده حداقل از درجه‌ی <code>min_degree</code> و حداکثر از مرتبه‌ی <code>max_degree</code> خواهند بود.)|\n",
    "    \n",
    "</font>\n",
    "</div>\n",
    "</center>\n",
    "\n",
    "<p dir=rtl style=\"direction: rtl;text-align: justify;line-height:200%;font-family:vazir;font-size:medium\">\n",
    "<font face=\"vazirmatn\" size=3>\n",
    "    کلاس <code>PolynomialFeatures</code> دارای سه متد به شرح زیر است: \n",
    "</font>\n",
    "</p>\n",
    "\n",
    "\n",
    "<center>\n",
    "<div dir=rtl style=\"direction: rtl;line-height:200%;font-family:vazir;font-size:medium\">\n",
    "<font face=\"vazirmatn\" size=3>\n",
    "    \n",
    "|اسم متد|توضیحات|\n",
    "|:------:|:---:|\n",
    "|<code>fit</code>|تعداد جملات چندجمله‌ای خروجی را حساب می‌کند|\n",
    "|<code>transform</code>|داده‌ی ورودی را به جملات چند‌جمله‌ای تبدیل می‌کند|\n",
    "|<code>fit_transform</code>|ابتدا تابع <code>fit</code> و سپس تابع <code>transform</code> را اجرا می‌کند|\n",
    "\n",
    "</font>\n",
    "</div>\n",
    "</center>"
   ]
  },
  {
   "cell_type": "markdown",
   "id": "e26d3557",
   "metadata": {},
   "source": [
    "<h3 align=right style=\"line-height:200%;font-family:vazir;color:#0099cc\">\n",
    "<font face=\"vazirmatn\" color=\"#0099cc\">\n",
    "آموزش مدل\n",
    "</font>\n",
    "</h3>\n",
    "\n",
    "<p dir=rtl style=\"direction: rtl;text-align: justify;line-height:200%;font-family:vazir;font-size:medium\">\n",
    "<font face=\"vazirmatn\" size=3>\n",
    "    در سلول پایین با استفاده از کتابخانه‌ی <code>scikit-learn</code> مدلی آموزش دهید که بتواند متغیر هدف این مسئله را پیش‌بینی کند.\n",
    "    <br>\n",
    "    برای ساختن ویژگی‌های چندجمله‌ای، شیء <code>poly_transformer</code> را مقداردهی کنید. بعداً در سلول جواب‌ساز این شیء ذخیره شده و در زمان داوری، مورد ارزیابی واقع خواهد شد.\n",
    "    <br>\n",
    "     سپس با ویژگی‌های چندجمله‌ای خروجی <code>poly_transformer</code> مدل رگرسیون خطی را آموزش دهید و آن را در شیء <code>model</code> ذخیره کنید. متغیر <code>model</code> در فرآیند داوری مورد ارزیابی واقع خواهد شد. بنابراین اطمینان حاصل کنید که از جنس <code>LinearRegression</code> باشد؛ در غیر این صورت نمره‌ای دریافت نخواهید کرد!\n",
    "</font>\n",
    "</p>"
   ]
  },
  {
   "cell_type": "code",
   "execution_count": null,
   "id": "93be64a2",
   "metadata": {},
   "outputs": [],
   "source": [
    "from sklearn.preprocessing import PolynomialFeatures\n",
    "\n",
    "poly_transformer = PolynomialFeatures(None) # To-Do"
   ]
  },
  {
   "cell_type": "code",
   "execution_count": null,
   "id": "8548b444",
   "metadata": {},
   "outputs": [],
   "source": [
    "from sklearn.linear_model import LinearRegression\n",
    "\n",
    "model = LinearRegression(None) # To-Do"
   ]
  },
  {
   "cell_type": "markdown",
   "id": "33da5d2a",
   "metadata": {},
   "source": [
    "<h3 align=right style=\"line-height:200%;font-family:vazir;color:#0099cc\">\n",
    "<font face=\"vazirmatn\" color=\"#0099cc\">\n",
    "معیار ارزیابی\n",
    "</font>\n",
    "</h3>\n",
    "<p dir=rtl style=\"direction: rtl; text-align: justify; line-height:200%; font-family:vazir; font-size:medium\">\n",
    "<font face=\"vazirmatn\" size=3>\n",
    "    معیاری که برای ارزیابی عملکرد مدل انتخاب کرده‌ایم، <code>r2_score</code> نام دارد.\n",
    "    <br>\n",
    "    این معیار، سنجه ارزیابی کیفیت مدل شماست. به عبارت بهتر در سامانه داوری هم از همین معیار برای نمره‌دهی استفاده شده است.\n",
    "    <br>\n",
    "    پیشنهاد می‌شود با توجه به این معیار، عملکرد مدل خود را بر روی مجموعه‌ی آموزش یا اعتبارسنجی ارزیابی کنید.\n",
    "</font>\n",
    "</p>"
   ]
  },
  {
   "cell_type": "code",
   "execution_count": null,
   "id": "f3f005b7",
   "metadata": {},
   "outputs": [],
   "source": [
    "# evaluate your model\n",
    "from sklearn.metrics import r2_score\n",
    "\n",
    "# To-Do"
   ]
  },
  {
   "cell_type": "markdown",
   "id": "b8f7a5d5",
   "metadata": {},
   "source": [
    "<p dir=rtl style=\"direction: rtl; text-align: justify; line-height:200%; font-family:vazir; font-size:medium\">\n",
    "<font color=\"red\"><b color='red'>توجه:</b></font>\n",
    "<font face=\"vazirmatn\" size=3>\n",
    " جهت کسب امتیاز کامل نیاز است تا پاسخ شما حداقل امتیاز <code>50</code> را با توجه به معیار معرفی‌شده کسب نماید.\n",
    "</font>\n",
    "</p>"
   ]
  },
  {
   "cell_type": "markdown",
   "id": "4e9984de",
   "metadata": {},
   "source": [
    "<h2 align=right style=\"line-height:200%;font-family:vazir;color:#0099cc\">\n",
    "<font face=\"vazirmatn\" color=\"#0099cc\">\n",
    " پیش‌بینی برای داده تست و خروجی\n",
    "</font>\n",
    "</h2>\n",
    "\n",
    "<p dir=rtl style=\"direction: rtl;text-align: justify;line-height:200%;font-family:vazir;font-size:medium\">\n",
    "<font face=\"vazirmatn\" size=3>\n",
    "    پس از مهندسی ویژگی و مدلسازی، الگوریتمی دارید که می‌تواند شما را از متغیرهای مستقل به متغیر هدف برساند.\n",
    "    <br>\n",
    "    از این مدل برای پیش‌بینی نمونه‌های موجود در مجموعه‌ی آزمون استفاده کنید و نتایج را در قالب جدول (<code>dataframe</code>) زیر آماده کنید.\n",
    "</font>\n",
    "</p>\n",
    "\n",
    "<center>\n",
    "<div dir=rtl style=\"direction: rtl;line-height:200%;font-family:vazir;font-size:medium\">\n",
    "<font face=\"vazirmatn\" size=3>\n",
    "    \n",
    "|ستون|توضیحات|\n",
    "|:------:|:---:|\n",
    "|<code>Life expectancy</code>|امید به زندگی پیش‌بینی‌شده|\n",
    "    \n",
    "</font>\n",
    "</div>\n",
    "</center>"
   ]
  },
  {
   "cell_type": "markdown",
   "id": "c2f6d82d",
   "metadata": {},
   "source": [
    "<p dir=rtl style=\"direction: rtl;text-align: justify;line-height:200%;font-family:vazir;font-size:medium\">\n",
    "<font face=\"vazirmatn\" size=3>\n",
    "    توجه داشته باشید که نام دیتافریم باید <code>submission</code> باشد؛ در غیر این‌صورت، سامانه‌ی داوری قادر به ارزیابی خروجی شما نخواهد بود.\n",
    "    این دیتافریم تنها شامل ۱ ستون با اسم <code>Life expectancy</code> است و ۸۰ سطر دارد.\n",
    "    <br>\n",
    "    به ازای هر سطر موجود در دیتافریم <code>test</code>، باید یک مقدار پیش‌بینی‌شده داشته باشید.\n",
    "    به‌عنوان مثال جدول زیر، ۵ سطر ابتدایی دیتافریم <code>submission</code> را نشان می‌دهد. البته در جواب شما، اعداد ستون <code>Life expectancy</code> ممکن است متفاوت باشد.\n",
    "</font>\n",
    "</p>\n",
    "\n",
    "<center>\n",
    "<div style=\"direction: ltr;line-height:200%;font-family:vazir;font-size:medium\">\n",
    "<font face=\"vazirmatn\" size=3>\n",
    "    \n",
    "||<code>Life expectancy</code>|\n",
    "|:----:|:-----:|\n",
    "|0|70.1|\n",
    "|1|65.2|\n",
    "|2|50.0|\n",
    "|3|81.72|\n",
    "|4|75.25|\n",
    "\n",
    "</font>\n",
    "</div>\n",
    "</center>"
   ]
  },
  {
   "cell_type": "code",
   "execution_count": null,
   "id": "3d4a0844",
   "metadata": {},
   "outputs": [],
   "source": [
    "submission = None # To-Do\n",
    "submission"
   ]
  },
  {
   "cell_type": "markdown",
   "id": "0a77e7cd",
   "metadata": {},
   "source": [
    "<h2 align=right style=\"line-height:200%;font-family:vazir;color:#0099cc\">\n",
    "<font face=\"vazirmatn\" color=\"#0099cc\">\n",
    "<b>سلول جواب‌ساز</b>\n",
    "</font>\n",
    "</h2>\n",
    "\n",
    "<p dir=rtl style=\"direction: rtl; text-align: justify; line-height:200%; font-family:vazir; font-size:medium\">\n",
    "<font face=\"vazirmatn\" size=3>\n",
    "    برای ساخته‌شدن فایل <code>result.zip</code> سلول زیر را اجرا کنید. توجه داشته باشید که پیش از اجرای سلول زیر تغییرات اعمال شده در نت‌بوک را ذخیره کرده باشید (<code>ctrl+s</code>) تا در صورت نیاز به پشتیبانی امکان بررسی کد شما وجود داشته باشد.\n",
    "</font>\n",
    "</p>"
   ]
  },
  {
   "cell_type": "code",
   "execution_count": null,
   "id": "2c3bcd76",
   "metadata": {},
   "outputs": [],
   "source": [
    "import zipfile\n",
    "import joblib\n",
    "\n",
    "def compress(file_names):\n",
    "    print(\"File Paths:\")\n",
    "    print(file_names)\n",
    "    compression = zipfile.ZIP_DEFLATED\n",
    "    with zipfile.ZipFile(\"result.zip\", mode=\"w\") as zf:\n",
    "        for file_name in file_names:\n",
    "            zf.write('./' + file_name, file_name, compress_type=compression)\n",
    "\n",
    "\n",
    "joblib.dump(poly_transformer, 'poly_transformer')\n",
    "joblib.dump(model, 'model')\n",
    "submission.to_csv('submission.csv', index=False)\n",
    "\n",
    "file_names = ['poly_transformer', 'model', 'submission.csv', 'life_expectancy.ipynb']\n",
    "compress(file_names)"
   ]
  },
  {
   "cell_type": "markdown",
   "id": "9d324736",
   "metadata": {},
   "source": [
    "<h4 align=right style=\"line-height:200%;font-family:vazir;color:#0099cc\">\n",
    "<font face=\"vazirmatn\" color=\"#0099cc\">\n",
    "راهنمایی\n",
    "</font>\n",
    "</h4>\n",
    "\n",
    "<p dir=rtl style=\"direction: rtl;text-align: right;line-height:200%;font-family:vazir;font-size:medium\">\n",
    "<font face=\"vazirmatn\" size=3>\n",
    "    ۱. در مراحل پیش‌پردازش از تغییر مقیاس ویژگی استفاده کنید.\n",
    "    <br>\n",
    "    ۲. مقادیر گم‌شده‌ی ویژگی‌ها را بررسی و مدیریت کنید.\n",
    "</font>\n",
    "</p>"
   ]
  }
 ],
 "metadata": {
  "kernelspec": {
   "display_name": "Python 3.9.7 ('base')",
   "language": "python",
   "name": "python3"
  },
  "language_info": {
   "codemirror_mode": {
    "name": "ipython",
    "version": 3
   },
   "file_extension": ".py",
   "mimetype": "text/x-python",
   "name": "python",
   "nbconvert_exporter": "python",
   "pygments_lexer": "ipython3",
   "version": "3.9.7"
  },
  "vscode": {
   "interpreter": {
    "hash": "ad2bdc8ecc057115af97d19610ffacc2b4e99fae6737bb82f5d7fb13d2f2c186"
   }
  }
 },
 "nbformat": 4,
 "nbformat_minor": 5
}
